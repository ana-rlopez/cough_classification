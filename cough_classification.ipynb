{
 "cells": [
  {
   "cell_type": "code",
   "execution_count": 1,
   "metadata": {},
   "outputs": [],
   "source": [
    "import os\n",
    "import numpy as np\n",
    "\n",
    "from pydub import AudioSegment\n",
    "from pydub.utils import mediainfo\n",
    "\n",
    "#settings\n",
    "import config"
   ]
  },
  {
   "cell_type": "markdown",
   "metadata": {},
   "source": [
    "## Reading recordings"
   ]
  },
  {
   "cell_type": "code",
   "execution_count": 2,
   "metadata": {},
   "outputs": [],
   "source": [
    "all_s=[]\n",
    "all_label=[]\n",
    "all_id=[]\n",
    "all_fs=[]"
   ]
  },
  {
   "cell_type": "code",
   "execution_count": 3,
   "metadata": {},
   "outputs": [
    {
     "name": "stdout",
     "output_type": "stream",
     "text": [
      "Readings wavs...\n",
      "data/YT_set/edited_wavs/edit_Spring Allergy Coughing-7Ez5Wc_esBg-Dry.wav\n",
      "data/YT_set/edited_wavs/edit_Spring Allergy Coughing-7Ez5Wc_esBg-Dry.wav\n",
      "data/YT_set/edited_wavs/edit_Coughing 51-LkxvBb2VXbs-Dry.wav\n",
      "data/YT_set/edited_wavs/edit_Coughing 51-LkxvBb2VXbs-Dry.wav\n",
      "data/YT_set/edited_wavs/edit_Wet coughing-0QQxKN-KC1U-Wet.wav\n",
      "data/YT_set/edited_wavs/edit_Wet coughing-0QQxKN-KC1U-Wet.wav\n",
      "data/YT_set/edited_wavs/edit_Dry Coughing Fit in the Afternoon.-A5s2ZgwQ1VM-Dry.wav\n",
      "data/YT_set/edited_wavs/edit_Dry Coughing Fit in the Afternoon.-A5s2ZgwQ1VM-Dry.wav\n",
      "data/YT_set/edited_wavs/edit_Coughing 77-2Mw-s5jnqXU-Wet.wav\n",
      "data/YT_set/edited_wavs/edit_Coughing 77-2Mw-s5jnqXU-Wet.wav\n",
      "data/YT_set/edited_wavs/edit_Wheezing Chest and Wet Cough 2-5905FxXz9dI-Wet.wav\n",
      "data/YT_set/edited_wavs/edit_Wheezing Chest and Wet Cough 2-5905FxXz9dI-Wet.wav\n",
      "data/YT_set/edited_wavs/edit_Coughing 46-dg-I9j76-t8-Wet.wav\n",
      "data/YT_set/edited_wavs/edit_Coughing 46-dg-I9j76-t8-Wet.wav\n",
      "data/YT_set/edited_wavs/edit_Spring Cold Coughing.-u2KMBD5-oCg-Dry.wav\n",
      "data/YT_set/edited_wavs/edit_Spring Cold Coughing.-u2KMBD5-oCg-Dry.wav\n",
      "data/YT_set/edited_wavs/edit_Mid-morning Winter Coughing Fit-h-GtQfDCoaE-Dry.wav\n",
      "data/YT_set/edited_wavs/edit_Mid-morning Winter Coughing Fit-h-GtQfDCoaE-Dry.wav\n",
      "data/YT_set/edited_wavs/edit_More Allergy Coughing-NfKZNt25L-Q-Dry.wav\n",
      "data/YT_set/edited_wavs/edit_More Allergy Coughing-NfKZNt25L-Q-Dry.wav\n",
      "data/YT_set/edited_wavs/edit_Coughing 14 - After work-1UDFq2InljM-Dry.wav\n",
      "data/YT_set/edited_wavs/edit_Coughing 14 - After work-1UDFq2InljM-Dry.wav\n",
      "data/YT_set/edited_wavs/edit_# 31 night wet cough-Dc_aoUCqw2E-Wet.wav\n",
      "data/YT_set/edited_wavs/edit_# 31 night wet cough-Dc_aoUCqw2E-Wet.wav\n",
      "data/YT_set/edited_wavs/edit_# 30 Chesty and wet cough-d2wkdrScerU-Wet.wav\n",
      "data/YT_set/edited_wavs/edit_# 30 Chesty and wet cough-d2wkdrScerU-Wet.wav\n",
      "data/YT_set/edited_wavs/edit_Single wet cough-CTSLdNxN1cc-Wet.wav\n",
      "data/YT_set/edited_wavs/edit_Single wet cough-CTSLdNxN1cc-Wet.wav\n",
      "data/YT_set/edited_wavs/edit_# 61 morning phlegmy cough...again-qfpJg179YNk-Wet.wav\n",
      "data/YT_set/edited_wavs/edit_# 61 morning phlegmy cough...again-qfpJg179YNk-Wet.wav\n",
      "data/YT_set/edited_wavs/edit_DIST_Another Girl Coughing-iYxUHA-Pwsk-Dry.wav\n",
      "data/YT_set/edited_wavs/edit_DIST_Another Girl Coughing-iYxUHA-Pwsk-Dry.wav\n",
      "data/YT_set/edited_wavs/edit_Spring Cold Coughing 3-tZtJaS2ZtME-Dry.wav\n",
      "data/YT_set/edited_wavs/edit_Spring Cold Coughing 3-tZtJaS2ZtME-Dry.wav\n",
      "data/YT_set/edited_wavs/edit_Coughing Woman Sound - Woman Cough Sound Effect-zjd4HrJbc8o-Dry.wav\n",
      "data/YT_set/edited_wavs/edit_Coughing Woman Sound - Woman Cough Sound Effect-zjd4HrJbc8o-Dry.wav\n",
      "data/YT_set/edited_wavs/edit_Wet Throat Infection Cough-tfc5cXiXMDc-Wet.wav\n",
      "data/YT_set/edited_wavs/edit_Wet Throat Infection Cough-tfc5cXiXMDc-Wet.wav\n",
      "data/YT_set/edited_wavs/edit_Dry Afternoon Cough-6LK6yHtIung-Dry.wav\n",
      "data/YT_set/edited_wavs/edit_Dry Afternoon Cough-6LK6yHtIung-Dry.wav\n",
      "data/YT_set/edited_wavs/edit_Dry Early Morning Cough-XrpB4DTNQZw-Dry.wav\n",
      "data/YT_set/edited_wavs/edit_Dry Early Morning Cough-XrpB4DTNQZw-Dry.wav\n",
      "data/YT_set/edited_wavs/edit_Man Coughing Sound - Wet Cough Sound Effect-q6WsoL3J8U8-Wet.wav\n",
      "data/YT_set/edited_wavs/edit_Man Coughing Sound - Wet Cough Sound Effect-q6WsoL3J8U8-Wet.wav\n",
      "data/YT_set/edited_wavs/edit_November cold (wet coughing)-DYfjPnty2Ho-Wet.wav\n",
      "data/YT_set/edited_wavs/edit_November cold (wet coughing)-DYfjPnty2Ho-Wet.wav\n",
      "data/YT_set/edited_wavs/edit_Dry Morning Cough turns Chesty and Barking.-ekqLlw-Xe68-Dry.wav\n",
      "data/YT_set/edited_wavs/edit_Dry Morning Cough turns Chesty and Barking.-ekqLlw-Xe68-Dry.wav\n",
      "data/YT_set/edited_wavs/edit_Cough Around the Clock!-4k0ziD0j5BI-Wet.wav\n",
      "data/YT_set/edited_wavs/edit_Cough Around the Clock!-4k0ziD0j5BI-Wet.wav\n",
      "data/YT_set/edited_wavs/edit_# 34 coughing up crap again-rkF_uMizqoc-Wet.wav\n",
      "data/YT_set/edited_wavs/edit_# 34 coughing up crap again-rkF_uMizqoc-Wet.wav\n",
      "data/YT_set/edited_wavs/edit_# 60 coughing still (deep and wet cough)-jxYNLCYTwZQ-Wet.wav\n",
      "data/YT_set/edited_wavs/edit_# 60 coughing still (deep and wet cough)-jxYNLCYTwZQ-Wet.wav\n",
      "data/YT_set/edited_wavs/edit_Spring Cold Coughing 2-AQOeIVbhFm4-Dry.wav\n",
      "data/YT_set/edited_wavs/edit_Spring Cold Coughing 2-AQOeIVbhFm4-Dry.wav\n",
      "data/YT_set/edited_wavs/edit_Coughing 60-diuuEXKzNB8-Wet.wav\n",
      "data/YT_set/edited_wavs/edit_Coughing 60-diuuEXKzNB8-Wet.wav\n",
      "data/YT_set/edited_wavs/edit_DIST_Coughing 79-h2FLCKMcEX0-Wet.wav\n",
      "data/YT_set/edited_wavs/edit_DIST_Coughing 79-h2FLCKMcEX0-Wet.wav\n",
      "data/YT_set/edited_wavs/edit_Residual Phlegmy Morning Coughing and Gagging-TK4CveeCWfY-Wet.wav\n",
      "data/YT_set/edited_wavs/edit_Residual Phlegmy Morning Coughing and Gagging-TK4CveeCWfY-Wet.wav\n",
      "data/YT_set/edited_wavs/edit_Heavy cold and sore throat coughing.-NaOVmYoIjbs-Dry.wav\n",
      "data/YT_set/edited_wavs/edit_Heavy cold and sore throat coughing.-NaOVmYoIjbs-Dry.wav\n",
      "data/YT_set/edited_wavs/edit_Male bronchitis cough-IzPMbIll3LE-Wet.wav\n",
      "data/YT_set/edited_wavs/edit_Male bronchitis cough-IzPMbIll3LE-Wet.wav\n",
      "data/YT_set/edited_wavs/edit_#64 coughing, allergies, singing lungs-CsDXlt7Ei1c-Wet.wav\n",
      "data/YT_set/edited_wavs/edit_#64 coughing, allergies, singing lungs-CsDXlt7Ei1c-Wet.wav\n",
      "data/YT_set/edited_wavs/edit_My deep wet cough-De4HdyocTHY-Wet.wav\n",
      "data/YT_set/edited_wavs/edit_My deep wet cough-De4HdyocTHY-Wet.wav\n",
      "data/YT_set/edited_wavs/edit_# 55 gaggy wet cough-ct3tHDfNKiQ-Wet.wav\n",
      "data/YT_set/edited_wavs/edit_# 55 gaggy wet cough-ct3tHDfNKiQ-Wet.wav\n"
     ]
    }
   ],
   "source": [
    "#Read wav data set\n",
    "\n",
    "if config.featExtr_skip is False:\n",
    "    print(\"Readings wavs...\")\n",
    "\n",
    "    #only list files in FOLDER_PATH directory\n",
    "    wav_files = [f for f in os.listdir(config.FOLDER_PATH) if os.path.isfile(os.path.join(config.FOLDER_PATH, f))]\n",
    "    for file_name in wav_files:\n",
    "    \n",
    "        fname_noExt = os.path.splitext(file_name)[0] #file name without extension\n",
    "    \n",
    "        #full path file name\n",
    "        full_fname = config.FOLDER_PATH+file_name\n",
    "        print(full_fname)\n",
    "    \n",
    "        # load audio\n",
    "        s = AudioSegment.from_wav(full_fname)\n",
    "        print(full_fname)\n",
    "        all_s.append(s)\n",
    "        #sampling rate:\n",
    "        info = mediainfo(full_fname)\n",
    "        fs = float(info['sample_rate'])\n",
    "        all_fs.append(fs)\n",
    "    \n",
    "        #get ID of recording\n",
    "        ID = fname_noExt.split('-')[-2] #for the current type of naming\n",
    "        #print(file_name)\n",
    "        #print(ID)\n",
    "        all_id.append(ID)\n",
    "    \n",
    "        #get label\n",
    "        label = fname_noExt.split('-')[-1] #for the current type of naming\n",
    "        #print(label)\n",
    "        all_label.append(label)"
   ]
  },
  {
   "cell_type": "markdown",
   "metadata": {},
   "source": [
    "Listening to some of the audios"
   ]
  },
  {
   "cell_type": "code",
   "execution_count": 4,
   "metadata": {},
   "outputs": [
    {
     "data": {
      "text/plain": [
       "(array([ 0,  1,  3,  7,  8,  9, 10, 15, 16, 17, 19, 20, 23, 27, 31]),)"
      ]
     },
     "execution_count": 4,
     "metadata": {},
     "output_type": "execute_result"
    }
   ],
   "source": [
    "np.where(np.array(all_label)=='Dry')"
   ]
  },
  {
   "cell_type": "code",
   "execution_count": 5,
   "metadata": {},
   "outputs": [
    {
     "data": {
      "text/plain": [
       "(array([ 2,  4,  5,  6, 11, 12, 13, 14, 18, 21, 22, 24, 25, 26, 28, 29, 30,\n",
       "        32, 33, 34, 35]),)"
      ]
     },
     "execution_count": 5,
     "metadata": {},
     "output_type": "execute_result"
    }
   ],
   "source": [
    "np.where(np.array(all_label)=='Wet')"
   ]
  },
  {
   "cell_type": "code",
   "execution_count": 6,
   "metadata": {},
   "outputs": [
    {
     "data": {
      "text/html": [
       "\n",
       "                    <audio controls>\n",
       "                        <source src=\"data:audio/mpeg;base64,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\" type=\"audio/mpeg\"/>\n",
       "                        Your browser does not support the audio element.\n",
       "                    </audio>\n",
       "                  "
      ],
      "text/plain": [
       "<pydub.audio_segment.AudioSegment at 0x7f8476925160>"
      ]
     },
     "execution_count": 6,
     "metadata": {},
     "output_type": "execute_result"
    }
   ],
   "source": [
    "s=all_s[15]\n",
    "s"
   ]
  },
  {
   "cell_type": "markdown",
   "metadata": {},
   "source": [
    "## Feature extraction"
   ]
  },
  {
   "cell_type": "code",
   "execution_count": 7,
   "metadata": {},
   "outputs": [
    {
     "name": "stdout",
     "output_type": "stream",
     "text": [
      "High-pass filtering...\n",
      "Computing features...\n",
      "High-pass filtering...\n",
      "Computing features...\n",
      "High-pass filtering...\n",
      "Computing features...\n",
      "High-pass filtering...\n",
      "Computing features...\n",
      "High-pass filtering...\n",
      "Computing features...\n",
      "High-pass filtering...\n",
      "Computing features...\n",
      "High-pass filtering...\n",
      "Computing features...\n",
      "High-pass filtering...\n",
      "Computing features...\n",
      "High-pass filtering...\n",
      "Computing features...\n",
      "High-pass filtering...\n",
      "Computing features...\n",
      "High-pass filtering...\n",
      "Computing features...\n",
      "High-pass filtering...\n",
      "Computing features...\n",
      "High-pass filtering...\n",
      "Computing features...\n",
      "High-pass filtering...\n",
      "Computing features...\n",
      "High-pass filtering...\n",
      "Computing features...\n",
      "High-pass filtering...\n",
      "Computing features...\n",
      "High-pass filtering...\n",
      "Computing features...\n",
      "High-pass filtering...\n",
      "Computing features...\n",
      "High-pass filtering...\n",
      "Computing features...\n",
      "High-pass filtering...\n",
      "Computing features...\n",
      "High-pass filtering...\n",
      "Computing features...\n",
      "High-pass filtering...\n",
      "Computing features...\n",
      "High-pass filtering...\n",
      "Computing features...\n",
      "High-pass filtering...\n",
      "Computing features...\n",
      "High-pass filtering...\n",
      "Computing features...\n",
      "High-pass filtering...\n",
      "Computing features...\n",
      "High-pass filtering...\n",
      "Computing features...\n",
      "High-pass filtering...\n",
      "Computing features...\n",
      "High-pass filtering...\n",
      "Computing features...\n",
      "High-pass filtering...\n",
      "Computing features...\n",
      "High-pass filtering...\n",
      "Computing features...\n",
      "High-pass filtering...\n",
      "Computing features...\n",
      "High-pass filtering...\n",
      "Computing features...\n",
      "High-pass filtering...\n",
      "Computing features...\n",
      "High-pass filtering...\n",
      "Computing features...\n",
      "High-pass filtering...\n",
      "Computing features...\n"
     ]
    }
   ],
   "source": [
    "import featureExtractionFunctions as featExtrLib\n",
    "\n",
    "if config.featExtr_skip is False:\n",
    "\n",
    "    feats = featExtrLib.feature_extraction_Step(all_s,all_id,all_label)\n",
    "    \n",
    "       "
   ]
  },
  {
   "cell_type": "markdown",
   "metadata": {},
   "source": [
    "## Load  (or store) features "
   ]
  },
  {
   "cell_type": "code",
   "execution_count": 8,
   "metadata": {},
   "outputs": [],
   "source": [
    "feats_fname = 'feats_df.pkl'\n",
    "\n",
    "if config.featExtr_skip is False:\n",
    "    #Store feature df\n",
    "    feats.to_pickle(feats_fname)\n",
    "else:\n",
    "    #Load feature df\n",
    "    feats = pd.read_pickle(feats_fname)"
   ]
  },
  {
   "cell_type": "markdown",
   "metadata": {},
   "source": [
    "## Pre-processing of features"
   ]
  },
  {
   "cell_type": "code",
   "execution_count": 9,
   "metadata": {},
   "outputs": [],
   "source": [
    "feats_df = featExtrLib.processingNaNvalues(feats)"
   ]
  },
  {
   "cell_type": "code",
   "execution_count": 10,
   "metadata": {},
   "outputs": [],
   "source": [
    "label_dict = featExtrLib.createLabelDict_addLabel2df(feats_df)\n",
    "mean_std_feats = featExtrLib.frame_mean_std_chunk_modeling (feats_df,label_dict,10)"
   ]
  },
  {
   "cell_type": "markdown",
   "metadata": {},
   "source": [
    "## Model training + evaluation (average on 20 runs)"
   ]
  },
  {
   "cell_type": "code",
   "execution_count": 11,
   "metadata": {},
   "outputs": [],
   "source": [
    "X_train = mean_std_feats.drop(['label','Id','subIdx'], 1).copy()\n",
    "y_train =  mean_std_feats['label'].copy()\n",
    "\n",
    "ID_train = mean_std_feats['Id']\n",
    "\n",
    "#ID_train.size"
   ]
  },
  {
   "cell_type": "code",
   "execution_count": 12,
   "metadata": {},
   "outputs": [
    {
     "name": "stdout",
     "output_type": "stream",
     "text": [
      "Run 0:\n",
      "\n",
      "accuracy     0.555556\n",
      "recall       0.533333\n",
      "f1           0.532468\n",
      "precision    0.535117\n",
      "\n",
      "\n",
      "Run 1:\n",
      "\n",
      "accuracy     0.638889\n",
      "recall       0.623810\n",
      "f1           0.624699\n",
      "precision    0.626623\n",
      "\n",
      "\n",
      "Run 2:\n",
      "\n",
      "accuracy     0.722222\n",
      "recall       0.685714\n",
      "f1           0.687500\n",
      "precision    0.740741\n",
      "\n",
      "\n",
      "Run 3:\n",
      "\n",
      "accuracy     0.611111\n",
      "recall       0.600000\n",
      "f1           0.600000\n",
      "precision    0.600000\n",
      "\n",
      "\n",
      "Run 4:\n",
      "\n",
      "accuracy     0.611111\n",
      "recall       0.590476\n",
      "f1           0.590909\n",
      "precision    0.595318\n",
      "\n",
      "\n",
      "Run 5:\n",
      "\n",
      "accuracy     0.694444\n",
      "recall       0.671429\n",
      "f1           0.674074\n",
      "precision    0.687500\n",
      "\n",
      "\n",
      "Run 6:\n",
      "\n",
      "accuracy     0.666667\n",
      "recall       0.657143\n",
      "f1           0.657143\n",
      "precision    0.657143\n",
      "\n",
      "\n",
      "Run 7:\n",
      "\n",
      "accuracy     0.750000\n",
      "recall       0.738095\n",
      "f1           0.740176\n",
      "precision    0.743506\n",
      "\n",
      "\n",
      "Run 8:\n",
      "\n",
      "accuracy     0.638889\n",
      "recall       0.614286\n",
      "f1           0.614815\n",
      "precision    0.625000\n",
      "\n",
      "\n",
      "Run 9:\n",
      "\n",
      "accuracy     0.611111\n",
      "recall       0.590476\n",
      "f1           0.590909\n",
      "precision    0.595318\n",
      "\n",
      "\n",
      "Run 10:\n",
      "\n",
      "accuracy     0.583333\n",
      "recall       0.566667\n",
      "f1           0.566961\n",
      "precision    0.568182\n",
      "\n",
      "\n",
      "Run 11:\n",
      "\n",
      "accuracy     0.750000\n",
      "recall       0.757143\n",
      "f1           0.748252\n",
      "precision    0.750000\n",
      "\n",
      "\n",
      "Run 12:\n",
      "\n",
      "accuracy     0.638889\n",
      "recall       0.623810\n",
      "f1           0.624699\n",
      "precision    0.626623\n",
      "\n",
      "\n",
      "Run 13:\n",
      "\n",
      "accuracy     0.611111\n",
      "recall       0.600000\n",
      "f1           0.600000\n",
      "precision    0.600000\n",
      "\n",
      "\n",
      "Run 14:\n",
      "\n",
      "accuracy     0.638889\n",
      "recall       0.604762\n",
      "f1           0.601702\n",
      "precision    0.626923\n",
      "\n",
      "\n",
      "Run 15:\n",
      "\n",
      "accuracy     0.694444\n",
      "recall       0.671429\n",
      "f1           0.674074\n",
      "precision    0.687500\n",
      "\n",
      "\n",
      "Run 16:\n",
      "\n",
      "accuracy     0.583333\n",
      "recall       0.557143\n",
      "f1           0.555556\n",
      "precision    0.562500\n",
      "\n",
      "\n",
      "Run 17:\n",
      "\n",
      "accuracy     0.666667\n",
      "recall       0.638095\n",
      "f1           0.638796\n",
      "precision    0.658182\n",
      "\n",
      "\n",
      "Run 18:\n",
      "\n",
      "accuracy     0.694444\n",
      "recall       0.680952\n",
      "f1           0.682438\n",
      "precision    0.685065\n",
      "\n",
      "\n",
      "Run 19:\n",
      "\n",
      "accuracy     0.722222\n",
      "recall       0.704762\n",
      "f1           0.707792\n",
      "precision    0.715719\n",
      "\n",
      "\n"
     ]
    }
   ],
   "source": [
    "import classifEvaluationFunctions as evalLib\n",
    "\n",
    "nr_runs = 20\n",
    "scores_list = ['accuracy','recall','f1','precision']\n",
    "avg_scores = evalLib.getAvgEvalScores_ofTrainRuns(nr_runs,X_train,y_train,ID_train,label_dict, scores_list, True)"
   ]
  },
  {
   "cell_type": "code",
   "execution_count": 13,
   "metadata": {},
   "outputs": [
    {
     "name": "stdout",
     "output_type": "stream",
     "text": [
      "Average scores:\n",
      "accuracy     0.654167\n",
      "recall       0.635476\n",
      "f1           0.635648\n",
      "precision    0.644348\n"
     ]
    }
   ],
   "source": [
    "#Print average values:\n",
    "print('Average scores:')\n",
    "evalLib.print_scores(avg_scores)"
   ]
  },
  {
   "cell_type": "code",
   "execution_count": null,
   "metadata": {},
   "outputs": [],
   "source": []
  }
 ],
 "metadata": {
  "kernelspec": {
   "display_name": "Python 3",
   "language": "python",
   "name": "python3"
  },
  "language_info": {
   "codemirror_mode": {
    "name": "ipython",
    "version": 3
   },
   "file_extension": ".py",
   "mimetype": "text/x-python",
   "name": "python",
   "nbconvert_exporter": "python",
   "pygments_lexer": "ipython3",
   "version": "3.6.9"
  }
 },
 "nbformat": 4,
 "nbformat_minor": 2
}
